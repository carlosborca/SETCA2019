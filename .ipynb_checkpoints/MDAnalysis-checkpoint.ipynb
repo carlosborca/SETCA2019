{
 "cells": [
  {
   "cell_type": "markdown",
   "metadata": {},
   "source": [
    "# MD Analysis"
   ]
  },
  {
   "cell_type": "code",
   "execution_count": 1,
   "metadata": {},
   "outputs": [],
   "source": [
    "import os\n",
    "import numpy as np"
   ]
  },
  {
   "cell_type": "code",
   "execution_count": 2,
   "metadata": {},
   "outputs": [
    {
     "name": "stdout",
     "output_type": "stream",
     "text": [
      "data/water.xyz\n"
     ]
    }
   ],
   "source": [
    "xyzFname = os.path.join(\"data\", \"water.xyz\")\n",
    "print(xyzFname)"
   ]
  },
  {
   "cell_type": "code",
   "execution_count": 3,
   "metadata": {},
   "outputs": [],
   "source": [
    "xyzFile = np.genfromtxt(fname=xyzFname, skip_header=2, dtype='unicode')"
   ]
  },
  {
   "cell_type": "code",
   "execution_count": 4,
   "metadata": {},
   "outputs": [],
   "source": [
    "coordinates = xyzFile[:,1:].astype(np.float)\n",
    "elements = xyzFile[:,0]"
   ]
  },
  {
   "cell_type": "code",
   "execution_count": 6,
   "metadata": {},
   "outputs": [
    {
     "name": "stdout",
     "output_type": "stream",
     "text": [
      "H1 to O: 0.969\n",
      "H2 to O: 0.969\n"
     ]
    }
   ],
   "source": [
    "for idx1, atom1 in enumerate(coordinates):\n",
    "\n",
    "    for idx2, atom2 in enumerate(coordinates):\n",
    "        \n",
    "        if (idx1 > idx2):\n",
    "            dist = np.linalg.norm(atom1-atom2)\n",
    "            \n",
    "            if (dist > 0.0) and (dist < 1.5):\n",
    "                print(F'{elements[idx1]} to {elements[idx2]}: {dist:.3f}')"
   ]
  },
  {
   "cell_type": "code",
   "execution_count": 7,
   "metadata": {},
   "outputs": [],
   "source": [
    "def calculateDistance(atom1, atom2):\n",
    "    \n",
    "    x = atom1[0] - atom2[0]\n",
    "    y = atom1[1] - atom2[1]\n",
    "    z = atom1[2] - atom2[2]\n",
    "    distance = np.sqrt(x**2 + y**2 + z**2)\n",
    "    \n",
    "    return distance"
   ]
  },
  {
   "cell_type": "code",
   "execution_count": 11,
   "metadata": {},
   "outputs": [],
   "source": [
    "def bondCheck(bondDistance):\n",
    "    if (bondDistance > 0.0) and (bondDistance < 1.5):\n",
    "        return True\n",
    "    else:\n",
    "        return False"
   ]
  },
  {
   "cell_type": "code",
   "execution_count": 12,
   "metadata": {},
   "outputs": [
    {
     "name": "stdout",
     "output_type": "stream",
     "text": [
      "H1 to O: 0.969\n",
      "H2 to O: 0.969\n"
     ]
    }
   ],
   "source": [
    "for idx1, atom1 in enumerate(coordinates):\n",
    "\n",
    "    for idx2, atom2 in enumerate(coordinates):\n",
    "        \n",
    "        if (idx1 > idx2):\n",
    "            dist = calculateDistance(atom1, atom2)\n",
    "            \n",
    "            if bondCheck(dist):\n",
    "                print(F'{elements[idx1]} to {elements[idx2]}: {dist:.3f}')"
   ]
  },
  {
   "cell_type": "code",
   "execution_count": null,
   "metadata": {},
   "outputs": [],
   "source": []
  }
 ],
 "metadata": {
  "kernelspec": {
   "display_name": "Python 3",
   "language": "python",
   "name": "python3"
  },
  "language_info": {
   "codemirror_mode": {
    "name": "ipython",
    "version": 3
   },
   "file_extension": ".py",
   "mimetype": "text/x-python",
   "name": "python",
   "nbconvert_exporter": "python",
   "pygments_lexer": "ipython3",
   "version": "3.7.3"
  }
 },
 "nbformat": 4,
 "nbformat_minor": 2
}
