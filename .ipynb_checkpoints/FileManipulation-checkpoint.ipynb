{
 "cells": [
  {
   "cell_type": "markdown",
   "metadata": {},
   "source": [
    "# File Manipulation Lesson"
   ]
  },
  {
   "cell_type": "markdown",
   "metadata": {},
   "source": [
    "## Parsing Multiple Files"
   ]
  },
  {
   "cell_type": "code",
   "execution_count": 6,
   "metadata": {},
   "outputs": [],
   "source": [
    "import os, glob"
   ]
  },
  {
   "cell_type": "markdown",
   "metadata": {},
   "source": [
    "### Using the wildcard character to match multiple files."
   ]
  },
  {
   "cell_type": "code",
   "execution_count": 4,
   "metadata": {},
   "outputs": [],
   "source": [
    "fileLocation = os.path.join('data', 'outfiles', '*.out')   # Using the wildcard character."
   ]
  },
  {
   "cell_type": "code",
   "execution_count": 8,
   "metadata": {},
   "outputs": [
    {
     "name": "stdout",
     "output_type": "stream",
     "text": [
      "data/outfiles/*.out\n"
     ]
    }
   ],
   "source": [
    "print(fileLocation)"
   ]
  },
  {
   "cell_type": "markdown",
   "metadata": {},
   "source": [
    "### Using the glob() function to get all the matches."
   ]
  },
  {
   "cell_type": "code",
   "execution_count": 15,
   "metadata": {},
   "outputs": [
    {
     "name": "stdout",
     "output_type": "stream",
     "text": [
      "['data/outfiles/nonanol.out', 'data/outfiles/hexanol.out', 'data/outfiles/butanol.out', 'data/outfiles/ethanol.out', 'data/outfiles/octanol.out', 'data/outfiles/decanol.out', 'data/outfiles/heptanol.out', 'data/outfiles/pentanol.out', 'data/outfiles/propanol.out', 'data/outfiles/methanol.out']\n"
     ]
    }
   ],
   "source": [
    "fileNames = glob.glob(fileLocation) # Find everything that matches.\n",
    "print(fileNames)"
   ]
  },
  {
   "cell_type": "code",
   "execution_count": 49,
   "metadata": {},
   "outputs": [
    {
     "name": "stdout",
     "output_type": "stream",
     "text": [
      "nonanol -427.3465180082815\n",
      "hexanol -310.2385332251633\n",
      "butanol -232.1655798347283\n",
      "ethanol -154.09130176573018\n",
      "octanol -388.3110864554743\n",
      "decanol -466.3836241400086\n",
      "heptanol -349.27397687072676\n",
      "pentanol -271.20138119895074\n",
      "propanol -193.12836249728798\n",
      "methanol -115.04800861868374\n"
     ]
    }
   ],
   "source": [
    "dataFile = open(\"energy.dat\", 'w')\n",
    "\n",
    "for f in fileNames:   # Loop for files.\n",
    "    \n",
    "    fileName = os.path.basename(f)\n",
    "    nameSplit = fileName.split('.')\n",
    "    moleculeName = nameSplit[0]\n",
    "    \n",
    "    outFile = open(f, 'r')\n",
    "    data = outFile.readlines()\n",
    "    outFile.close()\n",
    "    \n",
    "    for lineNum, line in enumerate(data):   # Loop for lines in files.\n",
    "        if 'Final Energy' in line:\n",
    "            energyLine = line\n",
    "            words = energyLine.split()\n",
    "            energy = float(words[3])\n",
    "            #print(f, moleculeName, energy)\n",
    "            print(moleculeName, energy)\n",
    "            dataFile.write(F'For {moleculeName} the energy is {energy} Ha. \\n')\n",
    "            \n",
    "dataFile.close()"
   ]
  },
  {
   "cell_type": "code",
   "execution_count": 37,
   "metadata": {},
   "outputs": [
    {
     "name": "stdout",
     "output_type": "stream",
     "text": [
      "nonanol.out nonanol\n"
     ]
    }
   ],
   "source": [
    "firstFile = fileNames[0]\n",
    "fileName = os.path.basename(firstFile)\n",
    "nameSplit = fileName.split('.')[0]\n",
    "print(fileName, nameSplit)"
   ]
  },
  {
   "cell_type": "code",
   "execution_count": null,
   "metadata": {},
   "outputs": [],
   "source": []
  },
  {
   "cell_type": "code",
   "execution_count": null,
   "metadata": {},
   "outputs": [],
   "source": []
  }
 ],
 "metadata": {
  "kernelspec": {
   "display_name": "Python 3",
   "language": "python",
   "name": "python3"
  },
  "language_info": {
   "codemirror_mode": {
    "name": "ipython",
    "version": 3
   },
   "file_extension": ".py",
   "mimetype": "text/x-python",
   "name": "python",
   "nbconvert_exporter": "python",
   "pygments_lexer": "ipython3",
   "version": "3.7.3"
  }
 },
 "nbformat": 4,
 "nbformat_minor": 2
}
