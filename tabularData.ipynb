{
 "cells": [
  {
   "cell_type": "markdown",
   "metadata": {},
   "source": [
    "# Tabular Data Lesson"
   ]
  },
  {
   "cell_type": "code",
   "execution_count": 7,
   "metadata": {},
   "outputs": [],
   "source": [
    "import os\n",
    "import numpy as np"
   ]
  },
  {
   "cell_type": "code",
   "execution_count": 8,
   "metadata": {},
   "outputs": [],
   "source": [
    "#help(np.genfromtxt)"
   ]
  },
  {
   "cell_type": "code",
   "execution_count": 16,
   "metadata": {},
   "outputs": [],
   "source": [
    "distanceFile = os.path.join('data', 'distance_data_headers.csv')\n",
    "#distances = np.genfromtxt(fname=distanceFile, delimiter=',', skip_header=1)\n",
    "distances = np.genfromtxt(fname=distanceFile, delimiter=',', dtype='unicode')"
   ]
  },
  {
   "cell_type": "code",
   "execution_count": 17,
   "metadata": {},
   "outputs": [
    {
     "name": "stdout",
     "output_type": "stream",
     "text": [
      "[['Frame' 'THR4_ATP' 'THR4_ASP' 'TYR6_ATP' 'TYR6_ASP']\n",
      " ['1' '8.9542' '5.8024' '11.5478' '9.9557']\n",
      " ['2' '8.6181' '6.0942' '13.9594' '11.6945']\n",
      " ...\n",
      " ['9998' '8.6625' '7.7306' '9.5469' '10.3063']\n",
      " ['9999' '9.2456' '7.8886' '9.8151' '10.7564']\n",
      " ['10000' '8.8135' '7.917' '9.9517' '10.7848']]\n"
     ]
    }
   ],
   "source": [
    "print(distances)"
   ]
  },
  {
   "cell_type": "code",
   "execution_count": 20,
   "metadata": {},
   "outputs": [
    {
     "name": "stdout",
     "output_type": "stream",
     "text": [
      "['Frame' 'THR4_ATP' 'THR4_ASP' 'TYR6_ATP' 'TYR6_ASP']\n"
     ]
    }
   ],
   "source": [
    "headers = distances[0]\n",
    "print(headers)"
   ]
  },
  {
   "cell_type": "code",
   "execution_count": 25,
   "metadata": {},
   "outputs": [
    {
     "name": "stdout",
     "output_type": "stream",
     "text": [
      "[['1' '8.9542' '5.8024' '11.5478' '9.9557']\n",
      " ['2' '8.6181' '6.0942' '13.9594' '11.6945']\n",
      " ['3' '9.0066' '6.0637' '13.0924' '11.3043']\n",
      " ...\n",
      " ['9998' '8.6625' '7.7306' '9.5469' '10.3063']\n",
      " ['9999' '9.2456' '7.8886' '9.8151' '10.7564']\n",
      " ['10000' '8.8135' '7.917' '9.9517' '10.7848']]\n"
     ]
    }
   ],
   "source": [
    "data = distances[1:]\n",
    "print(data)"
   ]
  },
  {
   "cell_type": "code",
   "execution_count": 29,
   "metadata": {},
   "outputs": [
    {
     "name": "stdout",
     "output_type": "stream",
     "text": [
      "8.9542\n"
     ]
    }
   ],
   "source": [
    "print(data[0,1])   # To access data in arrays you use this notation."
   ]
  },
  {
   "cell_type": "code",
   "execution_count": 33,
   "metadata": {},
   "outputs": [
    {
     "name": "stdout",
     "output_type": "stream",
     "text": [
      "[['1' '8.9542' '5.8024']\n",
      " ['2' '8.6181' '6.0942']\n",
      " ['3' '9.0066' '6.0637']\n",
      " ['4' '9.2002' '6.0227']\n",
      " ['5' '9.1294' '5.9365']\n",
      " ['6' '9.0462' '6.2553']\n",
      " ['7' '8.8657' '5.9186']\n",
      " ['8' '9.3256' '6.2351']\n",
      " ['9' '9.4184' '6.1993']\n",
      " ['10' '9.06' '6.0478']]\n"
     ]
    }
   ],
   "source": [
    "smallData = data[0:10,0:3]   # Slices of arrays use two index ranges\n",
    "print(smallData)\n",
    "uselessData = data[:,:]   # Colon gets everything"
   ]
  },
  {
   "cell_type": "code",
   "execution_count": 44,
   "metadata": {},
   "outputs": [
    {
     "name": "stdout",
     "output_type": "stream",
     "text": [
      "10.876950930000001\n"
     ]
    }
   ],
   "source": [
    "thr4_atp = data[:,1].astype(np.float)\n",
    "avg_thr4_atp = np.mean(thr4_atp)\n",
    "print(avg_thr4_atp)"
   ]
  },
  {
   "cell_type": "code",
   "execution_count": 51,
   "metadata": {},
   "outputs": [
    {
     "name": "stdout",
     "output_type": "stream",
     "text": [
      "THR4_ATP : 10.877\n",
      "THR4_ASP : 7.342\n",
      "TYR6_ATP : 11.210\n",
      "TYR6_ASP : 10.993\n"
     ]
    }
   ],
   "source": [
    "numColumns = len(headers)\n",
    "for i in range(1, numColumns):\n",
    "    column = data[:,i].astype(np.float)   # Loop over columns, using i.\n",
    "    avgColumn = np.mean(column)\n",
    "    print(F'{headers[i]} : {avgColumn:.3f}')"
   ]
  },
  {
   "cell_type": "code",
   "execution_count": null,
   "metadata": {},
   "outputs": [],
   "source": []
  }
 ],
 "metadata": {
  "kernelspec": {
   "display_name": "Python 3",
   "language": "python",
   "name": "python3"
  },
  "language_info": {
   "codemirror_mode": {
    "name": "ipython",
    "version": 3
   },
   "file_extension": ".py",
   "mimetype": "text/x-python",
   "name": "python",
   "nbconvert_exporter": "python",
   "pygments_lexer": "ipython3",
   "version": "3.7.3"
  }
 },
 "nbformat": 4,
 "nbformat_minor": 2
}
