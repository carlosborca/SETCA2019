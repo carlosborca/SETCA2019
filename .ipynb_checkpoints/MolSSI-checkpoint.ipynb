{
 "cells": [
  {
   "cell_type": "markdown",
   "metadata": {},
   "source": [
    "## MolSSI workshop for Computational Molecular Science\n",
    "### Introduction module"
   ]
  },
  {
   "cell_type": "code",
   "execution_count": 1,
   "metadata": {},
   "outputs": [
    {
     "data": {
      "text/plain": [
       "10"
      ]
     },
     "execution_count": 1,
     "metadata": {},
     "output_type": "execute_result"
    }
   ],
   "source": [
    "3+7"
   ]
  },
  {
   "cell_type": "code",
   "execution_count": 2,
   "metadata": {},
   "outputs": [
    {
     "name": "stdout",
     "output_type": "stream",
     "text": [
      "-3640.7000000000003\n"
     ]
    }
   ],
   "source": [
    "deltaH = -541.5   #kJ/mol\n",
    "deltaS = 10.4   #kJ/(mol K)\n",
    "temp = 298   #K\n",
    "deltaG = deltaH - temp*deltaS\n",
    "print(deltaG)"
   ]
  },
  {
   "cell_type": "code",
   "execution_count": 3,
   "metadata": {},
   "outputs": [
    {
     "data": {
      "text/plain": [
       "-3640700.0000000005"
      ]
     },
     "execution_count": 3,
     "metadata": {},
     "output_type": "execute_result"
    }
   ],
   "source": [
    "deltaG*1000   #Convert from kJ to J."
   ]
  },
  {
   "cell_type": "code",
   "execution_count": 6,
   "metadata": {},
   "outputs": [
    {
     "name": "stdout",
     "output_type": "stream",
     "text": [
      "-3640.7000000000003\n"
     ]
    }
   ],
   "source": [
    "print(deltaG) #deltaG does not change because variables are immutable."
   ]
  },
  {
   "cell_type": "code",
   "execution_count": 7,
   "metadata": {},
   "outputs": [
    {
     "name": "stdout",
     "output_type": "stream",
     "text": [
      "-3640.7000000000003\n",
      "-3640700.0000000005\n"
     ]
    }
   ],
   "source": [
    "deltaG_joules = deltaG*1000\n",
    "print(deltaG)\n",
    "print(deltaG_joules) # You need to assign the new value to a variable if you want to mutate the value."
   ]
  },
  {
   "cell_type": "code",
   "execution_count": 8,
   "metadata": {},
   "outputs": [
    {
     "data": {
      "text/plain": [
       "float"
      ]
     },
     "execution_count": 8,
     "metadata": {},
     "output_type": "execute_result"
    }
   ],
   "source": [
    "# Data types: int, str\n",
    "type(deltaG)"
   ]
  },
  {
   "cell_type": "code",
   "execution_count": 11,
   "metadata": {},
   "outputs": [
    {
     "data": {
      "text/plain": [
       "str"
      ]
     },
     "execution_count": 11,
     "metadata": {},
     "output_type": "execute_result"
    }
   ],
   "source": [
    "deltaG_string = str(deltaG)\n",
    "type(deltaG_string)"
   ]
  },
  {
   "cell_type": "code",
   "execution_count": 14,
   "metadata": {},
   "outputs": [
    {
     "name": "stdout",
     "output_type": "stream",
     "text": [
      "[-13.4, -2.7, 5.4, 42.1]\n"
     ]
    }
   ],
   "source": [
    "energy_kcal = [-13.4, -2.7, 5.4, 42.1]\n",
    "print(energy_kcal)"
   ]
  },
  {
   "cell_type": "code",
   "execution_count": 17,
   "metadata": {},
   "outputs": [
    {
     "name": "stdout",
     "output_type": "stream",
     "text": [
      "4\n"
     ]
    }
   ],
   "source": [
    "energy_lenght = len(energy_kcal)\n",
    "print(energy_lenght)"
   ]
  },
  {
   "cell_type": "code",
   "execution_count": 18,
   "metadata": {},
   "outputs": [
    {
     "name": "stdout",
     "output_type": "stream",
     "text": [
      "-13.4\n"
     ]
    }
   ],
   "source": [
    "print(energy_kcal[0])"
   ]
  },
  {
   "cell_type": "code",
   "execution_count": 20,
   "metadata": {},
   "outputs": [
    {
     "name": "stdout",
     "output_type": "stream",
     "text": [
      "5.4\n"
     ]
    }
   ],
   "source": [
    "print(energy_kcal[2])"
   ]
  },
  {
   "cell_type": "markdown",
   "metadata": {},
   "source": [
    "### Taking a slice"
   ]
  },
  {
   "cell_type": "code",
   "execution_count": 22,
   "metadata": {},
   "outputs": [
    {
     "name": "stdout",
     "output_type": "stream",
     "text": [
      "[-13.4, -2.7]\n"
     ]
    }
   ],
   "source": [
    "new_list = energy_kcal[0:2]   #old_list[start:end]\n",
    "print(new_list)"
   ]
  },
  {
   "cell_type": "code",
   "execution_count": 26,
   "metadata": {},
   "outputs": [
    {
     "name": "stdout",
     "output_type": "stream",
     "text": [
      "energy_kcal [-13.4, -2.7, 5.4, 42.1]\n",
      "slice1 [-2.7, 5.4, 42.1]\n",
      "slice2 [-13.4, -2.7, 5.4]\n"
     ]
    }
   ],
   "source": [
    "slice1 = energy_kcal[1:]\n",
    "slice2 = energy_kcal[:3]\n",
    "print('energy_kcal', energy_kcal)\n",
    "print('slice1', slice1)  #Includes all but 0, so 3 in total.\n",
    "print('slice2', slice2)  #Includes all elements but 3, so 3 in total."
   ]
  },
  {
   "cell_type": "code",
   "execution_count": 30,
   "metadata": {},
   "outputs": [
    {
     "name": "stdout",
     "output_type": "stream",
     "text": [
      "sp\n"
     ]
    }
   ],
   "source": [
    "word = \"spacer\"\n",
    "sliced = word[:2]\n",
    "print(sliced)"
   ]
  },
  {
   "cell_type": "code",
   "execution_count": 34,
   "metadata": {},
   "outputs": [
    {
     "name": "stdout",
     "output_type": "stream",
     "text": [
      "-56.0656\n",
      "-11.296800000000001\n",
      "22.593600000000002\n",
      "176.1464\n"
     ]
    }
   ],
   "source": [
    "#for variable in list_name:\n",
    "#    do things with the variable\n",
    "for number in energy_kcal:\n",
    "    kJ = number*4.184\n",
    "    print(kJ)"
   ]
  },
  {
   "cell_type": "code",
   "execution_count": 40,
   "metadata": {},
   "outputs": [
    {
     "name": "stdout",
     "output_type": "stream",
     "text": [
      "[-56.0656, -11.296800000000001, 22.593600000000002, 176.1464]\n"
     ]
    }
   ],
   "source": [
    "#list_name.append(new_thing)\n",
    "energy_kJ = []\n",
    "for number in energy_kcal:\n",
    "    kJ = number*4.184\n",
    "    energy_kJ.append(kJ)\n",
    "\n",
    "print(energy_kJ)"
   ]
  },
  {
   "cell_type": "code",
   "execution_count": 42,
   "metadata": {},
   "outputs": [],
   "source": [
    "negatives = []\n",
    "positives = []\n",
    "for number in energy_kcal:\n",
    "    if number<0:\n",
    "        negatives.append(number)\n",
    "    else:\n",
    "        positives.append(number)"
   ]
  },
  {
   "cell_type": "code",
   "execution_count": 44,
   "metadata": {},
   "outputs": [
    {
     "name": "stdout",
     "output_type": "stream",
     "text": [
      "[-13.4, -2.7]\n"
     ]
    }
   ],
   "source": [
    "print(negatives)"
   ]
  },
  {
   "cell_type": "code",
   "execution_count": 47,
   "metadata": {},
   "outputs": [
    {
     "name": "stdout",
     "output_type": "stream",
     "text": [
      "[5.4, 42.1]\n"
     ]
    }
   ],
   "source": [
    "print(positives)"
   ]
  },
  {
   "cell_type": "code",
   "execution_count": 49,
   "metadata": {},
   "outputs": [],
   "source": [
    "#Comparison operators: >, ==, <=. >=, !="
   ]
  },
  {
   "cell_type": "code",
   "execution_count": null,
   "metadata": {},
   "outputs": [],
   "source": []
  }
 ],
 "metadata": {
  "kernelspec": {
   "display_name": "Python 3",
   "language": "python",
   "name": "python3"
  },
  "language_info": {
   "codemirror_mode": {
    "name": "ipython",
    "version": 3
   },
   "file_extension": ".py",
   "mimetype": "text/x-python",
   "name": "python",
   "nbconvert_exporter": "python",
   "pygments_lexer": "ipython3",
   "version": "3.7.3"
  }
 },
 "nbformat": 4,
 "nbformat_minor": 2
}
